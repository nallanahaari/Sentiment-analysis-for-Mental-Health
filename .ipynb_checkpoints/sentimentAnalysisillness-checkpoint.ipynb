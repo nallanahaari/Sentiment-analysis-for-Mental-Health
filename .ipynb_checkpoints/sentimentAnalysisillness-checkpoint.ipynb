{
 "cells": [
  {
   "cell_type": "markdown",
   "metadata": {
    "id": "A6NxAdAc3TXP"
   },
   "source": [
    "# importing libraries and data"
   ]
  },
  {
   "cell_type": "code",
   "execution_count": null,
   "metadata": {
    "colab": {
     "base_uri": "https://localhost:8080/"
    },
    "id": "FWokLY4welah",
    "outputId": "9422e904-c127-4105-eb55-66d62b72ff7b"
   },
   "outputs": [],
   "source": [
    "import pandas as pd\n",
    "import numpy as np\n",
    "import seaborn as sns\n",
    "import plotly.express as px\n",
    "import matplotlib.pyplot as plt\n",
    "import plotly.graph_objects as go\n",
    "import warnings\n",
    "warnings.filterwarnings('ignore')\n",
    "import nltk\n",
    "from nltk.corpus import stopwords\n",
    "nltk.download('punkt')\n",
    "nltk.download('stopwords')\n",
    "nltk.download('wordnet')\n",
    "from nltk.tokenize import word_tokenize\n",
    "from sklearn.model_selection import train_test_split, GridSearchCV\n",
    "from sklearn.feature_extraction.text import TfidfVectorizer\n",
    "from sklearn.linear_model import LogisticRegression\n",
    "from sklearn.metrics import confusion_matrix, classification_report, accuracy_score, ConfusionMatrixDisplay\n",
    "from sklearn.ensemble import RandomForestClassifier,AdaBoostClassifier,ExtraTreesClassifier\n",
    "from sklearn.tree import DecisionTreeClassifier\n",
    "from sklearn.linear_model import LogisticRegression\n",
    "from sklearn.metrics import accuracy_score,precision_score"
   ]
  },
  {
   "cell_type": "code",
   "execution_count": null,
   "metadata": {
    "colab": {
     "base_uri": "https://localhost:8080/",
     "height": 206
    },
    "id": "-QjWhimkf7Zu",
    "outputId": "8d817fb5-3317-4c26-8d75-0eeacdf3c23c"
   },
   "outputs": [],
   "source": [
    "#importing data\n",
    "df = pd.read_csv(\"Combined Data.csv\")\n",
    "df.head()"
   ]
  },
  {
   "cell_type": "code",
   "execution_count": null,
   "metadata": {
    "colab": {
     "base_uri": "https://localhost:8080/",
     "height": 206
    },
    "id": "BR7vWIbi8DFg",
    "outputId": "314d4af8-e598-486b-ed12-692b6880de61"
   },
   "outputs": [],
   "source": [
    "#remomving integer index column and adding index to dataframe\n",
    "df.reset_index(drop=True, inplace = True)\n",
    "df = df.drop('Unnamed: 0', axis = 1)\n",
    "df.head()"
   ]
  },
  {
   "cell_type": "markdown",
   "metadata": {
    "id": "v4N_Lm2Unb9s"
   },
   "source": [
    "# EDA"
   ]
  },
  {
   "cell_type": "markdown",
   "metadata": {
    "id": "yKkkAxSxtQcb"
   },
   "source": [
    "## null value analysis"
   ]
  },
  {
   "cell_type": "code",
   "execution_count": null,
   "metadata": {
    "colab": {
     "base_uri": "https://localhost:8080/"
    },
    "id": "h6iLuEgkhV-A",
    "outputId": "10608301-324d-4c55-aeb0-c154f1e1dfe5"
   },
   "outputs": [],
   "source": [
    "print(df.isnull().sum())"
   ]
  },
  {
   "cell_type": "code",
   "execution_count": null,
   "metadata": {
    "colab": {
     "base_uri": "https://localhost:8080/"
    },
    "id": "RGt8Uk-IgBaV",
    "outputId": "25086b01-6ab0-44ee-c39a-9fa686c20e83"
   },
   "outputs": [],
   "source": [
    "#dropping missing statements\n",
    "df = df.dropna()\n",
    "print(df.isnull().sum())"
   ]
  },
  {
   "cell_type": "code",
   "execution_count": null,
   "metadata": {
    "colab": {
     "base_uri": "https://localhost:8080/"
    },
    "id": "9_DfggaDlnDR",
    "outputId": "f4489b61-7e15-43b9-81f0-cb090d0ac08b"
   },
   "outputs": [],
   "source": [
    "#checking unique status values\n",
    "df['status'].nunique()"
   ]
  },
  {
   "cell_type": "markdown",
   "metadata": {
    "id": "HxCFosq83fX4"
   },
   "source": [
    "## plots and distributions"
   ]
  },
  {
   "cell_type": "code",
   "execution_count": null,
   "metadata": {
    "colab": {
     "base_uri": "https://localhost:8080/",
     "height": 0
    },
    "id": "WNKd1X7_nZhy",
    "outputId": "85faeb84-89bc-4301-c79e-7e9b8bca4a5f"
   },
   "outputs": [],
   "source": [
    "sentvals=df['status'].value_counts()\n",
    "print(sentvals)\n",
    "df['status'].value_counts().plot(kind='bar', title='Distribution of Sentiments')"
   ]
  },
  {
   "cell_type": "code",
   "execution_count": null,
   "metadata": {
    "colab": {
     "base_uri": "https://localhost:8080/",
     "height": 0
    },
    "id": "ilVf3pk3w6IZ",
    "outputId": "64125d01-e250-4b61-a501-6b11e54e8979"
   },
   "outputs": [],
   "source": [
    "#statementh length\n",
    "df['statelen'] = df['statement'].apply(lambda s : len(s) if s == s else 0)\n",
    "sns.histplot(\n",
    "   df['statelen'], kde=True,\n",
    "    stat=\"density\"\n",
    ")\n",
    "plt.title('Statement Length Distribution')\n",
    "plt.show()"
   ]
  },
  {
   "cell_type": "markdown",
   "metadata": {
    "id": "SuE8FmuMx6X8"
   },
   "source": [
    "## box distribution"
   ]
  },
  {
   "cell_type": "code",
   "execution_count": null,
   "metadata": {
    "colab": {
     "base_uri": "https://localhost:8080/",
     "height": 542
    },
    "id": "X_MIZu_1x1sB",
    "outputId": "a9f1ceca-8583-42d2-f353-8c500629275a"
   },
   "outputs": [],
   "source": [
    "fig = go.Figure()\n",
    "fig.add_trace(go.Box(\n",
    "    y=df['statelen'].values,\n",
    "    name='Statement Length',\n",
    "    boxpoints=False, # no data points\n",
    "    boxmean='sd' # represent mean and standard deviation\n",
    "))\n",
    "fig.update_layout(title='Statement length distribution')\n",
    "fig.show()"
   ]
  },
  {
   "cell_type": "code",
   "execution_count": null,
   "metadata": {
    "colab": {
     "base_uri": "https://localhost:8080/",
     "height": 817
    },
    "id": "eIghPVdayKcu",
    "outputId": "5272d964-9bee-4f79-bdfa-5ae136f94eb5"
   },
   "outputs": [],
   "source": [
    "# Sort by statelen to get top 10 shortest and longest statements\n",
    "shortest_statements = df.nsmallest(10, 'statelen')\n",
    "longest_statements = df.nlargest(10, 'statelen')\n",
    "\n",
    "# Create an interactive barplot for shortest statements\n",
    "fig_shortest = px.bar(\n",
    "    shortest_statements,\n",
    "    x='statelen',\n",
    "    y='status',\n",
    "    color='status',\n",
    "    orientation='h',\n",
    "    title='Top 10 Shortest Statements with Status',\n",
    "    labels={'statelen': 'Length of Statement', 'status': 'Status'},\n",
    "    hover_data={'statement': True, 'statelen': True, 'status': True},\n",
    "    template = \"plotly_dark\"\n",
    ")\n",
    "\n",
    "# Customize layout for shortest statements plot\n",
    "fig_shortest.update_layout(\n",
    "    yaxis={'categoryorder':'total ascending'},\n",
    "    height=400,\n",
    "    margin=dict(l=150, r=50, t=50, b=50),\n",
    "    hoverlabel=dict(bgcolor=\"white\", font_size=12, font_family=\"Arial\")\n",
    "\n",
    ")\n",
    "\n",
    "# Create an interactive barplot for longest statements\n",
    "fig_longest = px.bar(\n",
    "    longest_statements,\n",
    "    x='statelen',\n",
    "    y='status',\n",
    "    color='status',\n",
    "    orientation='h',\n",
    "    title='Top 10 Longest Statements with Status',\n",
    "    labels={'statelen': 'Length of Statement', 'status': 'Status'},\n",
    "    template = \"plotly_dark\",\n",
    "    hover_data={'statement': True, 'statelen': True, 'status': True}\n",
    ")\n",
    "\n",
    "# Customize layout for longest statements plot\n",
    "fig_longest.update_layout(\n",
    "    yaxis={'categoryorder':'total ascending'},\n",
    "    height=400,\n",
    "    margin=dict(l=150, r=50, t=50, b=50),\n",
    "    hoverlabel=dict(bgcolor=\"white\", font_size=12, font_family=\"Arial\"\n",
    "    )\n",
    ")\n",
    "\n",
    "# Show the plots\n",
    "fig_shortest.show()\n",
    "fig_longest.show()"
   ]
  },
  {
   "cell_type": "code",
   "execution_count": null,
   "metadata": {
    "colab": {
     "base_uri": "https://localhost:8080/",
     "height": 542
    },
    "id": "jFwDKYoj2Xmn",
    "outputId": "5882efb5-7e87-4913-886d-1046596e5c62"
   },
   "outputs": [],
   "source": [
    "fig = go.Figure()\n",
    "for stat in df.status.unique():\n",
    "    fig.add_trace(go.Box(\n",
    "        y=df.loc[df['status'] == stat, 'statelen'].values,\n",
    "        name=f'{stat}',\n",
    "        boxpoints=False, # no data points\n",
    "        boxmean='sd' # represent mean and standard deviation\n",
    "    ))\n",
    "fig.update_layout(title='statement length distribution for each status')\n",
    "fig.show()"
   ]
  },
  {
   "cell_type": "code",
   "execution_count": null,
   "metadata": {
    "colab": {
     "base_uri": "https://localhost:8080/",
     "height": 472
    },
    "id": "1_dR0Ck938_5",
    "outputId": "bd51fb24-4d7f-4935-edb7-e952868574d6"
   },
   "outputs": [],
   "source": [
    "# Calculate Q1 (25th percentile) and Q3 (75th percentile)\n",
    "Q1 = df['statelen'].quantile(0.25)\n",
    "Q3 = df['statelen'].quantile(0.75)\n",
    "IQR = Q3 - Q1\n",
    "\n",
    "# Define the lower and upper bound for outliers\n",
    "lower_bound = Q1 - 1.5 * IQR\n",
    "upper_bound = Q3 + 1.5 * IQR\n",
    "\n",
    "# Filter out the outliers\n",
    "filtered_df = df[(df['statelen'] >= lower_bound) & (df['statelen'] <= upper_bound)]\n",
    "# Plot the distribution of statement lengths without outliers\n",
    "filtered_df['statelen'].hist(bins=100)\n",
    "plt.title('Distribution of Statement Lengths (Without Outliers)')\n",
    "plt.xlabel('Length of Statements')\n",
    "plt.ylabel('Frequency')\n",
    "plt.show()"
   ]
  },
  {
   "cell_type": "code",
   "execution_count": null,
   "metadata": {
    "colab": {
     "base_uri": "https://localhost:8080/",
     "height": 534
    },
    "id": "sgMpKkHNu8if",
    "outputId": "a457df7a-8fc2-4180-e3ab-18ce2b1204d5"
   },
   "outputs": [],
   "source": [
    "filtered_df[\"statelen\"]=filtered_df[\"statement\"].apply(len)\n",
    "\n",
    "fig=plt.figure(figsize=(10,6))\n",
    "\n",
    "sns.kdeplot(\n",
    "    x=filtered_df[\"statelen\"],\n",
    "    hue=filtered_df[\"status\"]\n",
    ")\n",
    "plt.show()"
   ]
  },
  {
   "cell_type": "markdown",
   "metadata": {
    "id": "VC3nHin19vpq"
   },
   "source": []
  },
  {
   "cell_type": "markdown",
   "metadata": {
    "id": "LljrrKNE18ee"
   },
   "source": [
    "## Data cleaning"
   ]
  },
  {
   "cell_type": "markdown",
   "metadata": {
    "id": "FkkAm2uCo7Ge"
   },
   "source": [
    "### duplicate analysis"
   ]
  },
  {
   "cell_type": "code",
   "execution_count": null,
   "metadata": {
    "colab": {
     "base_uri": "https://localhost:8080/",
     "height": 223
    },
    "id": "OO9TEq28rVto",
    "outputId": "052094ca-6435-493c-d2c3-2980ed30d246"
   },
   "outputs": [],
   "source": [
    "duplidf = filtered_df.loc[filtered_df.statement.duplicated(keep=False)]\n",
    "print(\"number of duplicated values : \",duplidf.shape[0])\n",
    "duplidf.head()"
   ]
  },
  {
   "cell_type": "markdown",
   "metadata": {
    "id": "f-ck-SgxrbE8"
   },
   "source": [
    "checking if the duplicated statements have same column value"
   ]
  },
  {
   "cell_type": "code",
   "execution_count": null,
   "metadata": {
    "colab": {
     "base_uri": "https://localhost:8080/",
     "height": 363
    },
    "id": "LOkapNXurx3k",
    "outputId": "889ed744-f5e9-4c82-e04d-407ab5c038be"
   },
   "outputs": [],
   "source": [
    "groupduplidf = duplidf.groupby(['statement'])['status'].apply(set).reset_index()\n",
    "groupduplidf.head(10)"
   ]
  },
  {
   "cell_type": "code",
   "execution_count": null,
   "metadata": {
    "colab": {
     "base_uri": "https://localhost:8080/",
     "height": 457
    },
    "id": "t3_2Erdwsu2f",
    "outputId": "f5ad7658-5712-4871-f7ad-54dd004799bf"
   },
   "outputs": [],
   "source": [
    "#checking how many statements reflect more than one diagnosis\n",
    "groupduplidf.loc[groupduplidf['status'].apply(len) > 1]"
   ]
  },
  {
   "cell_type": "code",
   "execution_count": null,
   "metadata": {
    "colab": {
     "base_uri": "https://localhost:8080/",
     "height": 81
    },
    "id": "2bOhOGrttFsN",
    "outputId": "578362b0-f742-463c-f246-3434f6b28de7"
   },
   "outputs": [],
   "source": [
    "#checking for statements which have an unusual amount of multi similarity\n",
    "groupduplidf.loc[groupduplidf['status'].apply(len) > 2]"
   ]
  },
  {
   "cell_type": "markdown",
   "metadata": {
    "id": "bIyaKQY5vcSG"
   },
   "source": [
    "meaning #NAME? has insconsistent status\n",
    "there fore we will remove this statement"
   ]
  },
  {
   "cell_type": "code",
   "execution_count": null,
   "metadata": {
    "id": "mvCAH441vlhJ"
   },
   "outputs": [],
   "source": [
    "# remove \"#NAME?\"\n",
    "filtered_df = filtered_df.loc[filtered_df['statement'] != \"#NAME?\"]\n",
    "# drop duplicate, keep only first row\n",
    "filtered_df.drop_duplicates(subset=['statement'],keep='first', inplace=True)"
   ]
  },
  {
   "cell_type": "markdown",
   "metadata": {
    "id": "ZaLmzqC851z-"
   },
   "source": [
    "### case folding"
   ]
  },
  {
   "cell_type": "code",
   "execution_count": null,
   "metadata": {
    "id": "77QO9pDuvt7P"
   },
   "outputs": [],
   "source": [
    "#cleaning text\n",
    "import string\n",
    "def cleantext(state):\n",
    "    #Case folding\n",
    "    state = state.str.lower()\n",
    "    state = state.str.replace(r'[^\\w\\s]', '', regex = True)\n",
    "    #remove characters that are not alphanumeric or whitespace, leaving only letters, numbers, and spaces\n",
    "    state = state.str.replace(\"\\n\" , '', regex = True)\n",
    "    state = state.str.replace('\\d', '', regex = True)\n",
    "    state = state.str.replace(r'\\[.*?\\]', '', regex = True)\n",
    "    state = state.str.replace(r'https?://\\S+|www\\.\\S+', '', regex =True)\n",
    "    state = state.str.replace(r'<.*?>+', '', regex = True)\n",
    "    state = state.str.replace(r'\\w*\\d\\w*', '', regex = True)\n",
    "    return state\n",
    "#The result is a cleaner text with only relevant words, stripped of extraneous information"
   ]
  },
  {
   "cell_type": "code",
   "execution_count": null,
   "metadata": {
    "id": "kh_l9IKxuQJE"
   },
   "outputs": [],
   "source": [
    "filtered_df[\"statement\"] = cleantext(filtered_df[\"statement\"])"
   ]
  },
  {
   "cell_type": "code",
   "execution_count": null,
   "metadata": {
    "colab": {
     "base_uri": "https://localhost:8080/",
     "height": 363
    },
    "id": "q9S9Arrs5Z1l",
    "outputId": "3452cf28-c14c-4381-b939-30bec3300149"
   },
   "outputs": [],
   "source": [
    "filtered_df.head(10)"
   ]
  },
  {
   "cell_type": "markdown",
   "metadata": {
    "id": "uae1Vnbo5hyt"
   },
   "source": [
    "## removing stopwords"
   ]
  },
  {
   "cell_type": "code",
   "execution_count": null,
   "metadata": {
    "id": "mBNfPorrR53e"
   },
   "outputs": [],
   "source": [
    "def removestopwords(text):\n",
    "    stop_words = stopwords.words('english')\n",
    "    text = text.apply(lambda x: \" \".join(x for x in str(x).split() if x not in stop_words))\n",
    "    return text"
   ]
  },
  {
   "cell_type": "code",
   "execution_count": null,
   "metadata": {
    "id": "G8dXn3eKTeSo"
   },
   "outputs": [],
   "source": [
    "filtered_df[\"statement\"] = removestopwords(filtered_df[\"statement\"])"
   ]
  },
  {
   "cell_type": "code",
   "execution_count": null,
   "metadata": {
    "colab": {
     "base_uri": "https://localhost:8080/",
     "height": 363
    },
    "id": "lagKmyFJTh2C",
    "outputId": "2e93d21d-5091-4f32-8435-c8cb378f7d50"
   },
   "outputs": [],
   "source": [
    "filtered_df.head(10)"
   ]
  },
  {
   "cell_type": "markdown",
   "metadata": {
    "id": "mlL4hJwKV2U8"
   },
   "source": [
    "## encoding"
   ]
  },
  {
   "cell_type": "code",
   "execution_count": null,
   "metadata": {
    "id": "Yb-XIXcdW-WG"
   },
   "outputs": [],
   "source": [
    "filtered_df[\"status\"] = filtered_df[\"status\"].map({'Anxiety':0, 'Normal':1, 'Depression':2, 'Suicidal':3, 'Stress':4, \"Bipolar\": 5, \"Personality disorder\": 6})"
   ]
  },
  {
   "cell_type": "markdown",
   "metadata": {
    "id": "aCpRUuaRtuO8"
   },
   "source": [
    "# data pre - processing"
   ]
  },
  {
   "cell_type": "code",
   "execution_count": null,
   "metadata": {},
   "outputs": [],
   "source": [
    "fdf = filtered_df.copy()\n",
    "from nltk.stem.porter import PorterStemmer\n",
    "ps = PorterStemmer()\n",
    "corpus=[]\n",
    "for i in range (0,len(fdf)):\n",
    "  review = re.sub('[^a-zA-Z0-9]',' ',df['statement'][i])\n",
    "  review = review.lower()\n",
    "  review = review.split()\n",
    "  review = [ps.stem(word) for word in review if not word in stopwordslist]\n",
    "  review = ' '.join(review)\n",
    "  corpus.append(review)"
   ]
  },
  {
   "cell_type": "code",
   "execution_count": null,
   "metadata": {
    "id": "6cGYDKquW_lo"
   },
   "outputs": [],
   "source": [
    "y = fdf['status']"
   ]
  },
  {
   "cell_type": "code",
   "execution_count": null,
   "metadata": {
    "colab": {
     "base_uri": "https://localhost:8080/"
    },
    "id": "5VfwYXkH-8yR",
    "outputId": "79d14db4-5f17-45a0-9346-cc151935d21b"
   },
   "outputs": [],
   "source": [
    "#train test split\n",
    "x_train,x_test,y_train,y_test=train_test_split(corpus,y,random_state=42,test_size=0.2)\n",
    "print(x_train.shape,y_train.shape,x_test.shape,y_test.shape)"
   ]
  },
  {
   "cell_type": "markdown",
   "metadata": {
    "id": "4B0H8lKLSEfn"
   },
   "source": [
    "## TF-IDF vectorization"
   ]
  },
  {
   "cell_type": "code",
   "execution_count": null,
   "metadata": {
    "id": "YRvPErwqStVX"
   },
   "outputs": [],
   "source": [
    "vec=TfidfVectorizer()\n",
    "x_train_tfidf=vec.fit_transform(x_train)\n",
    "x_test_tfidf=vec.transform(x_test)"
   ]
  },
  {
   "cell_type": "code",
   "execution_count": null,
   "metadata": {
    "colab": {
     "base_uri": "https://localhost:8080/"
    },
    "id": "UsJYWEEFX4tz",
    "outputId": "02d20dad-4db8-4b25-c78f-26533c21cd6a"
   },
   "outputs": [],
   "source": [
    "print(x_train_tfidf.shape,x_test_tfidf.shape)"
   ]
  },
  {
   "cell_type": "code",
   "execution_count": null,
   "metadata": {
    "colab": {
     "base_uri": "https://localhost:8080/"
    },
    "id": "wXiocFVLYZm3",
    "outputId": "72e49bb0-06b0-44d4-fef3-b35d7c585a05"
   },
   "outputs": [],
   "source": [
    "print(x_train_tfidf)"
   ]
  },
  {
   "cell_type": "markdown",
   "metadata": {
    "id": "JqXJWaJtY9lt"
   },
   "source": [
    "# model training"
   ]
  },
  {
   "cell_type": "markdown",
   "metadata": {
    "id": "eL2EcGvEZ0c4"
   },
   "source": [
    "## 1. Random forest classifier"
   ]
  },
  {
   "cell_type": "code",
   "execution_count": null,
   "metadata": {
    "id": "JBNxOV6TZ5J9"
   },
   "outputs": [],
   "source": [
    "rf=RandomForestClassifier()\n",
    "rf.fit(x_train,y_train)"
   ]
  },
  {
   "cell_type": "code",
   "execution_count": null,
   "metadata": {
    "id": "4HonH-WjaIUl"
   },
   "outputs": [],
   "source": [
    "pred=rf.predict(x_test_tfidf)\n",
    "print(classification_report(y_test,pred))\n",
    "cm = confusion_matrix(y_test,pred)\n",
    "disp = ConfusionMatrixDisplay(confusion_matrix=cm)\n",
    "#confusion matrix\n",
    "disp.plot()\n",
    "plt.show()"
   ]
  },
  {
   "cell_type": "code",
   "execution_count": null,
   "metadata": {
    "id": "28FFS_Nuc93Y"
   },
   "outputs": [],
   "source": []
  }
 ],
 "metadata": {
  "colab": {
   "collapsed_sections": [
    "yKkkAxSxtQcb",
    "HxCFosq83fX4",
    "mlL4hJwKV2U8"
   ],
   "provenance": []
  },
  "kernelspec": {
   "display_name": "Python 3 (ipykernel)",
   "language": "python",
   "name": "python3"
  },
  "language_info": {
   "codemirror_mode": {
    "name": "ipython",
    "version": 3
   },
   "file_extension": ".py",
   "mimetype": "text/x-python",
   "name": "python",
   "nbconvert_exporter": "python",
   "pygments_lexer": "ipython3",
   "version": "3.11.7"
  }
 },
 "nbformat": 4,
 "nbformat_minor": 4
}
